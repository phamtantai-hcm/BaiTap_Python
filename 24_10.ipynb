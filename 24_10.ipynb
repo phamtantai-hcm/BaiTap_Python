{
  "nbformat": 4,
  "nbformat_minor": 0,
  "metadata": {
    "colab": {
      "provenance": [],
      "collapsed_sections": [],
      "authorship_tag": "ABX9TyP3OURqSeFegetyd1fx3yK2",
      "include_colab_link": true
    },
    "kernelspec": {
      "name": "python3",
      "display_name": "Python 3"
    },
    "language_info": {
      "name": "python"
    }
  },
  "cells": [
    {
      "cell_type": "markdown",
      "metadata": {
        "id": "view-in-github",
        "colab_type": "text"
      },
      "source": [
        "<a href=\"https://colab.research.google.com/github/phamtantai-hcm/BaiTap_Python/blob/main/24_10.ipynb\" target=\"_parent\"><img src=\"https://colab.research.google.com/assets/colab-badge.svg\" alt=\"Open In Colab\"/></a>"
      ]
    },
    {
      "cell_type": "code",
      "execution_count": 2,
      "metadata": {
        "id": "R57E5_keGe-S",
        "colab": {
          "base_uri": "https://localhost:8080/"
        },
        "outputId": "6decf6ee-b2ae-4849-c8c8-2ed08f195ed2"
      },
      "outputs": [
        {
          "output_type": "stream",
          "name": "stdout",
          "text": [
            "[0 1 2 3 4 5 6 7 8 9]\n",
            "(10,)\n",
            "-----------------------\n",
            "tf.Tensor([0 1 2 3 4 5 6 7 8 9], shape=(10,), dtype=int64)\n",
            "(10,)\n",
            "-----------------------\n",
            "[0 1 2 3 4 5 6 7 8 9]\n",
            "(10,)\n",
            "-----------------------\n"
          ]
        }
      ],
      "source": [
        "import tensorflow as tf\n",
        "import numpy as np\n",
        "arr_np = np.arange(10)\n",
        "print(arr_np)\n",
        "print(arr_np.shape)\n",
        "print('-----------------------')\n",
        "arr_tf = tf.convert_to_tensor(arr_np)\n",
        "print(arr_tf)\n",
        "print(arr_tf.shape)\n",
        "print('-----------------------')\n",
        "arr_np_back = arr_tf.numpy()\n",
        "print(arr_np_back)\n",
        "print(arr_np_back.shape)\n",
        "print('-----------------------')"
      ]
    },
    {
      "cell_type": "code",
      "source": [
        "import numpy as np\n",
        "l = list(range(1,4))\n",
        "data = np.array(l)\n",
        "\n",
        "print(data)\n",
        "print(data[0])\n",
        "print(data[1])"
      ],
      "metadata": {
        "colab": {
          "base_uri": "https://localhost:8080/"
        },
        "id": "i3Yg0qtjPQtX",
        "outputId": "d85d6808-6f22-44cd-ff30-a10f319353c9"
      },
      "execution_count": 3,
      "outputs": [
        {
          "output_type": "stream",
          "name": "stdout",
          "text": [
            "[1 2 3]\n",
            "1\n",
            "2\n"
          ]
        }
      ]
    },
    {
      "cell_type": "code",
      "source": [
        "import numpy as np\n",
        "list1D = [1,2,3]\n",
        "data = np.array(list1D)\n",
        "\n",
        "print(data)\n",
        "print(data.shape)"
      ],
      "metadata": {
        "colab": {
          "base_uri": "https://localhost:8080/"
        },
        "id": "G1F4CEcnPtW9",
        "outputId": "3182926a-360d-446a-ae91-485e5bfaece2"
      },
      "execution_count": 4,
      "outputs": [
        {
          "output_type": "stream",
          "name": "stdout",
          "text": [
            "[1 2 3]\n",
            "(3,)\n"
          ]
        }
      ]
    },
    {
      "cell_type": "code",
      "source": [
        "import numpy as np\n",
        "list2D = [[1,2,],[3,4],[5,6]]\n",
        "data = np.array(list2D)\n",
        "\n",
        "print(data)\n",
        "print(data.shape)"
      ],
      "metadata": {
        "colab": {
          "base_uri": "https://localhost:8080/"
        },
        "id": "dF-wAL2iRxgy",
        "outputId": "1b6c709c-d8f3-42ea-bc0c-4a910e0fe38c"
      },
      "execution_count": 6,
      "outputs": [
        {
          "output_type": "stream",
          "name": "stdout",
          "text": [
            "[[1 2]\n",
            " [3 4]\n",
            " [5 6]]\n",
            "(3, 2)\n"
          ]
        }
      ]
    },
    {
      "cell_type": "code",
      "source": [
        "import numpy as np\n",
        "list3D = [[[1,6],[2,2],[3,4]],\n",
        "          [[4,7],[2,4],[7,9]],\n",
        "          [[7,7],[5,6],[9,9]]]\n",
        "          \n",
        "data = np.array(list3D)\n",
        "\n",
        "print(data.shape)"
      ],
      "metadata": {
        "id": "8bMHrvWfSYGs",
        "outputId": "aa7db09a-4418-4ae4-cf0c-fbb4f8020475",
        "colab": {
          "base_uri": "https://localhost:8080/"
        }
      },
      "execution_count": 8,
      "outputs": [
        {
          "output_type": "stream",
          "name": "stdout",
          "text": [
            "(3, 3, 2)\n"
          ]
        }
      ]
    },
    {
      "cell_type": "code",
      "source": [
        "import numpy as np\n",
        "data1 = np.array([1,2,3])\n",
        "print(data.dtype)\n",
        "\n",
        "data2 = np.array([1.,2.,3.])\n",
        "print(data2.dtype)\n",
        "\n",
        "data3 = np.array([1,2,3], dtype=np.int64)\n",
        "print(data3.dtype)"
      ],
      "metadata": {
        "id": "Tb0tidc-S48X",
        "outputId": "ef472f11-a805-4606-fae6-44b6915da248",
        "colab": {
          "base_uri": "https://localhost:8080/"
        }
      },
      "execution_count": 9,
      "outputs": [
        {
          "output_type": "stream",
          "name": "stdout",
          "text": [
            "int64\n",
            "float64\n",
            "int64\n"
          ]
        }
      ]
    },
    {
      "cell_type": "code",
      "source": [
        "import numpy as np\n",
        "l = list(range(1,4))\n",
        "data = np.array(l)\n",
        "print(data)\n",
        "\n",
        "data[0] = 8\n",
        "print(data)"
      ],
      "metadata": {
        "id": "I5roojHtTude",
        "outputId": "8f3a71f7-7877-4f8d-b393-485f0b4deab1",
        "colab": {
          "base_uri": "https://localhost:8080/"
        }
      },
      "execution_count": 10,
      "outputs": [
        {
          "output_type": "stream",
          "name": "stdout",
          "text": [
            "[1 2 3]\n",
            "[8 2 3]\n"
          ]
        }
      ]
    },
    {
      "cell_type": "code",
      "source": [
        "import numpy as np\n",
        "arr = np.zeros((2,3))\n",
        "print(arr)"
      ],
      "metadata": {
        "id": "Fda7PI34T9ky",
        "outputId": "34d33f7e-8c0d-40f4-a00c-0518c7057b09",
        "colab": {
          "base_uri": "https://localhost:8080/"
        }
      },
      "execution_count": 12,
      "outputs": [
        {
          "output_type": "stream",
          "name": "stdout",
          "text": [
            "[[0. 0. 0.]\n",
            " [0. 0. 0.]]\n"
          ]
        }
      ]
    },
    {
      "cell_type": "code",
      "source": [
        "import numpy as np\n",
        "arr = np.ones((2,3))\n",
        "print(arr)"
      ],
      "metadata": {
        "id": "kui8zKtBUNU5",
        "outputId": "cf47b070-7b8e-41f1-b412-bee9cc3dc1af",
        "colab": {
          "base_uri": "https://localhost:8080/"
        }
      },
      "execution_count": 13,
      "outputs": [
        {
          "output_type": "stream",
          "name": "stdout",
          "text": [
            "[[1. 1. 1.]\n",
            " [1. 1. 1.]]\n"
          ]
        }
      ]
    },
    {
      "cell_type": "code",
      "source": [
        "import numpy as np\n",
        "arr = np.full((2,3),9)\n",
        "print(arr)"
      ],
      "metadata": {
        "id": "tMqrdA0pUVpA",
        "outputId": "da4e8dae-79bb-48a8-f269-e9c6adad0de6",
        "colab": {
          "base_uri": "https://localhost:8080/"
        }
      },
      "execution_count": 14,
      "outputs": [
        {
          "output_type": "stream",
          "name": "stdout",
          "text": [
            "[[9 9 9]\n",
            " [9 9 9]]\n"
          ]
        }
      ]
    },
    {
      "cell_type": "code",
      "source": [
        "import numpy as np\n",
        "arr1 = np.arange(5)\n",
        "print(arr1)\n",
        "\n",
        "arr2 = np.arange(0,5,2)\n",
        "print(arr2)"
      ],
      "metadata": {
        "id": "ziIrDmwRUaPq",
        "outputId": "6c5ac3c0-6eef-49d0-f850-32192d27c7e0",
        "colab": {
          "base_uri": "https://localhost:8080/"
        }
      },
      "execution_count": 15,
      "outputs": [
        {
          "output_type": "stream",
          "name": "stdout",
          "text": [
            "[0 1 2 3 4]\n",
            "[0 2 4]\n"
          ]
        }
      ]
    },
    {
      "cell_type": "code",
      "source": [
        "import numpy as np\n",
        "arr = np.eye(3)\n",
        "print(arr)"
      ],
      "metadata": {
        "id": "IqMVvcC8UpI4",
        "outputId": "b822c7cd-5f51-41e0-e156-2a3db51b73df",
        "colab": {
          "base_uri": "https://localhost:8080/"
        }
      },
      "execution_count": 16,
      "outputs": [
        {
          "output_type": "stream",
          "name": "stdout",
          "text": [
            "[[1. 0. 0.]\n",
            " [0. 1. 0.]\n",
            " [0. 0. 1.]]\n"
          ]
        }
      ]
    },
    {
      "cell_type": "code",
      "source": [
        "import numpy as np\n",
        "arr = np.random.random((2,3))\n",
        "print(arr)"
      ],
      "metadata": {
        "id": "-Uf30_7AUvPl",
        "outputId": "bf35c383-cb9d-4e55-ed80-30daa4edc08d",
        "colab": {
          "base_uri": "https://localhost:8080/"
        }
      },
      "execution_count": 17,
      "outputs": [
        {
          "output_type": "stream",
          "name": "stdout",
          "text": [
            "[[0.25946194 0.45793837 0.14089793]\n",
            " [0.95664395 0.84099298 0.14081176]]\n"
          ]
        }
      ]
    },
    {
      "cell_type": "code",
      "source": [
        "import numpy as np\n",
        "arr = np.arange(5)\n",
        "print(arr)\n",
        "\n",
        "condition = arr < 3\n",
        "out = np.where(condition, arr, arr * 2)\n",
        "\n",
        "print(condition)\n",
        "print(out)"
      ],
      "metadata": {
        "id": "ld-9tauuU86d",
        "outputId": "68dc8575-06f5-43a8-c264-6472ac2cbeb6",
        "colab": {
          "base_uri": "https://localhost:8080/"
        }
      },
      "execution_count": 18,
      "outputs": [
        {
          "output_type": "stream",
          "name": "stdout",
          "text": [
            "[0 1 2 3 4]\n",
            "[ True  True  True False False]\n",
            "[0 1 2 6 8]\n"
          ]
        }
      ]
    },
    {
      "cell_type": "code",
      "source": [
        "import numpy as np\n",
        "arr = np.array([[2,3], [3,4]])\n",
        "out = arr.flatten()\n",
        "print(arr)\n",
        "print(out)"
      ],
      "metadata": {
        "id": "_7_26howVSYO",
        "outputId": "ae425946-c55c-4377-890b-70ee34c29794",
        "colab": {
          "base_uri": "https://localhost:8080/"
        }
      },
      "execution_count": 20,
      "outputs": [
        {
          "output_type": "stream",
          "name": "stdout",
          "text": [
            "[[2 3]\n",
            " [3 4]]\n",
            "[2 3 3 4]\n"
          ]
        }
      ]
    },
    {
      "cell_type": "code",
      "source": [
        "import numpy as np\n",
        "\n",
        "l = [[1,2,3],\n",
        "     [4,5,6]]\n",
        "\n",
        "data = np.array(l)\n",
        "print(data)\n",
        "print(data.shape)\n",
        "\n",
        "data_rs = np.reshape(data, (3,2))\n",
        "print(data_rs)\n",
        "print(data_rs.shape)"
      ],
      "metadata": {
        "id": "8a4HM5igVnmj",
        "outputId": "52dc8014-a364-4f40-e96b-3861956aae8b",
        "colab": {
          "base_uri": "https://localhost:8080/"
        }
      },
      "execution_count": 23,
      "outputs": [
        {
          "output_type": "stream",
          "name": "stdout",
          "text": [
            "[[1 2 3]\n",
            " [4 5 6]]\n",
            "(2, 3)\n",
            "[[1 2]\n",
            " [3 4]\n",
            " [5 6]]\n",
            "(3, 2)\n"
          ]
        }
      ]
    },
    {
      "cell_type": "code",
      "source": [
        "import numpy as np\n",
        "\n",
        "a_arr = np.array([[1,2,3],\n",
        "                  [5,6,7]])\n",
        "\n",
        "b_arr = a_arr[:, 1:3]\n",
        "print(a_arr)\n",
        "print(b_arr)"
      ],
      "metadata": {
        "id": "WflW5tI3WQjL",
        "outputId": "85c96d3e-3ff0-4903-de30-603da989d301",
        "colab": {
          "base_uri": "https://localhost:8080/"
        }
      },
      "execution_count": 24,
      "outputs": [
        {
          "output_type": "stream",
          "name": "stdout",
          "text": [
            "[[1 2 3]\n",
            " [5 6 7]]\n",
            "[[2 3]\n",
            " [6 7]]\n"
          ]
        }
      ]
    },
    {
      "cell_type": "code",
      "source": [
        "import numpy as np\n",
        "\n",
        "a_arr = np.array([[1,2,3],\n",
        "                  [5,6,7]])\n",
        "print(a_arr)\n",
        "\n",
        "b_arr = a_arr[:, 1:3]\n",
        "print(b_arr)\n",
        "\n",
        "print(a_arr[0,1])\n",
        "b_arr[0,0] = 99\n",
        "print(a_arr[0,1])"
      ],
      "metadata": {
        "id": "EOFxrc1YWksC",
        "outputId": "37d41131-88a5-40a2-97d4-ec008611f34f",
        "colab": {
          "base_uri": "https://localhost:8080/"
        }
      },
      "execution_count": 25,
      "outputs": [
        {
          "output_type": "stream",
          "name": "stdout",
          "text": [
            "[[1 2 3]\n",
            " [5 6 7]]\n",
            "[[2 3]\n",
            " [6 7]]\n",
            "2\n",
            "99\n"
          ]
        }
      ]
    },
    {
      "cell_type": "code",
      "source": [
        "import numpy as np\n",
        "\n",
        "arr = np.array([[1,2,3],\n",
        "                [5,6,7],\n",
        "                [9,10,11]])\n",
        "\n",
        "row_m1 = arr[1, :]\n",
        "row_m2 = arr[1:2, :]\n",
        "\n",
        "print(row_m1, row_m1.shape)\n",
        "print(row_m2, row_m2.shape)"
      ],
      "metadata": {
        "id": "m1BG5o40W5A7",
        "outputId": "0ef069fd-1475-435f-da3e-2d3f511476f2",
        "colab": {
          "base_uri": "https://localhost:8080/"
        }
      },
      "execution_count": 26,
      "outputs": [
        {
          "output_type": "stream",
          "name": "stdout",
          "text": [
            "[5 6 7] (3,)\n",
            "[[5 6 7]] (1, 3)\n"
          ]
        }
      ]
    },
    {
      "cell_type": "code",
      "source": [
        "import numpy as np\n",
        "\n",
        "arr = np.array([[1,2,3],\n",
        "                [5,6,7],\n",
        "                [9,10,11]])\n",
        "\n",
        "col_m1 = arr[:, 1]\n",
        "col_m2 = arr[:, 1:2]\n",
        "\n",
        "print(col_m1, col_m1.shape)\n",
        "print(col_m2, col_m2.shape)"
      ],
      "metadata": {
        "id": "qkffCbZOXTlf",
        "outputId": "919bd54e-afe6-4f2f-ef4a-7b446c84f940",
        "colab": {
          "base_uri": "https://localhost:8080/"
        }
      },
      "execution_count": 27,
      "outputs": [
        {
          "output_type": "stream",
          "name": "stdout",
          "text": [
            "[ 2  6 10] (3,)\n",
            "[[ 2]\n",
            " [ 6]\n",
            " [10]] (3, 1)\n"
          ]
        }
      ]
    },
    {
      "cell_type": "code",
      "source": [
        "import numpy as np\n",
        "\n",
        "arr = np.array([[1,2,3],\n",
        "                [5,6,7],\n",
        "                [9,10,11]])\n",
        "\n",
        "out1 = arr[[0,1,2],[0,1,0]]\n",
        "print(out1)\n",
        "out2 = arr [[0,0],[1,1]]\n",
        "print(out2)"
      ],
      "metadata": {
        "id": "wbvVRhv4XnVZ",
        "outputId": "c4631a4b-e328-4978-99eb-b13532471ebf",
        "colab": {
          "base_uri": "https://localhost:8080/"
        }
      },
      "execution_count": 29,
      "outputs": [
        {
          "output_type": "stream",
          "name": "stdout",
          "text": [
            "[1 6 9]\n",
            "[2 2]\n"
          ]
        }
      ]
    },
    {
      "cell_type": "code",
      "source": [
        "import numpy as np\n",
        "\n",
        "arr = np.array([[1,2,3],\n",
        "                [5,6,7],\n",
        "                [9,10,11]])\n",
        "print(arr)\n",
        "\n",
        "bool_idx = (arr >2)\n",
        "print(bool_idx)"
      ],
      "metadata": {
        "id": "5BXF_GlsX8fI",
        "outputId": "8ac638fe-f46c-4276-d770-b37e74dd10b8",
        "colab": {
          "base_uri": "https://localhost:8080/"
        }
      },
      "execution_count": 30,
      "outputs": [
        {
          "output_type": "stream",
          "name": "stdout",
          "text": [
            "[[ 1  2  3]\n",
            " [ 5  6  7]\n",
            " [ 9 10 11]]\n",
            "[[False False  True]\n",
            " [ True  True  True]\n",
            " [ True  True  True]]\n"
          ]
        }
      ]
    },
    {
      "cell_type": "code",
      "source": [
        "import numpy as np\n",
        "\n",
        "x = np.array([1,2,3,4])\n",
        "y = np.array([5,6,7,8])\n",
        "\n",
        "print(x)\n",
        "print(y)\n",
        "\n",
        "print(x+y)\n",
        "print(np.add(x,y))"
      ],
      "metadata": {
        "id": "Z9xQE_izYNbR",
        "outputId": "71a7eea8-b990-449b-ec56-0ef22e4956aa",
        "colab": {
          "base_uri": "https://localhost:8080/"
        }
      },
      "execution_count": 31,
      "outputs": [
        {
          "output_type": "stream",
          "name": "stdout",
          "text": [
            "[1 2 3 4]\n",
            "[5 6 7 8]\n",
            "[ 6  8 10 12]\n",
            "[ 6  8 10 12]\n"
          ]
        }
      ]
    },
    {
      "cell_type": "code",
      "source": [
        "import numpy as np\n",
        "\n",
        "x = np.array([1,2,3,4])\n",
        "y = np.array([5,6,7,8])\n",
        "\n",
        "print(x)\n",
        "print(y)\n",
        "\n",
        "print(x-y)\n",
        "print(np.subtract(x,y))"
      ],
      "metadata": {
        "id": "nCqj9czQYh15",
        "outputId": "2f0fd016-b073-41b1-967c-b7d720c82ac6",
        "colab": {
          "base_uri": "https://localhost:8080/"
        }
      },
      "execution_count": 32,
      "outputs": [
        {
          "output_type": "stream",
          "name": "stdout",
          "text": [
            "[1 2 3 4]\n",
            "[5 6 7 8]\n",
            "[-4 -4 -4 -4]\n",
            "[-4 -4 -4 -4]\n"
          ]
        }
      ]
    },
    {
      "cell_type": "code",
      "source": [
        "import numpy as np\n",
        "\n",
        "x = np.array([1,2,3,4])\n",
        "y = np.array([5,6,7,8])\n",
        "\n",
        "print(x)\n",
        "print(y)\n",
        "\n",
        "print(x*y)\n",
        "print(np.multiply(x,y))"
      ],
      "metadata": {
        "id": "GoRHB-hEYqZz",
        "outputId": "e489020d-637b-472f-ed04-8dc0dc5150ee",
        "colab": {
          "base_uri": "https://localhost:8080/"
        }
      },
      "execution_count": 33,
      "outputs": [
        {
          "output_type": "stream",
          "name": "stdout",
          "text": [
            "[1 2 3 4]\n",
            "[5 6 7 8]\n",
            "[ 5 12 21 32]\n",
            "[ 5 12 21 32]\n"
          ]
        }
      ]
    },
    {
      "cell_type": "code",
      "source": [
        "import numpy as np\n",
        "\n",
        "x = np.array([5,6,7,8])\n",
        "y = np.array([1,2,3,4])\n",
        "\n",
        "print(x)\n",
        "print(y)\n",
        "#chia cac tung phan tuong ung x cho y\n",
        "print(x/y)\n",
        "print(x//y)\n",
        "print(np.divide(x,y))"
      ],
      "metadata": {
        "id": "8dDb6BB1YvU4",
        "outputId": "17a1b90a-9167-4b6f-c951-82625a25c8c7",
        "colab": {
          "base_uri": "https://localhost:8080/"
        }
      },
      "execution_count": 35,
      "outputs": [
        {
          "output_type": "stream",
          "name": "stdout",
          "text": [
            "[5 6 7 8]\n",
            "[1 2 3 4]\n",
            "[5.         3.         2.33333333 2.        ]\n",
            "[5 3 2 2]\n",
            "[5.         3.         2.33333333 2.        ]\n"
          ]
        }
      ]
    },
    {
      "cell_type": "code",
      "source": [
        "import numpy as np\n",
        "\n",
        "x = np.array([5,6,7,8])\n",
        "print(x)\n",
        "print('can bac 2', np.sqrt(x))"
      ],
      "metadata": {
        "id": "StJakchSY7M5",
        "outputId": "b4560df2-d9f0-4038-ed9b-d510dcabc577",
        "colab": {
          "base_uri": "https://localhost:8080/"
        }
      },
      "execution_count": 36,
      "outputs": [
        {
          "output_type": "stream",
          "name": "stdout",
          "text": [
            "[5 6 7 8]\n",
            "can bac 2 [2.23606798 2.44948974 2.64575131 2.82842712]\n"
          ]
        }
      ]
    },
    {
      "cell_type": "code",
      "source": [
        "import numpy as np\n",
        "\n",
        "v = np.array([1,2])\n",
        "w = np.array([2,3])\n",
        "#tinh inner product\n",
        "print(v.dot(w))\n",
        "print(np.dot(v,w))"
      ],
      "metadata": {
        "id": "yv38irtVZU6f",
        "outputId": "c8293b86-01a5-4ac5-cd2f-aaeedd9e18e7",
        "colab": {
          "base_uri": "https://localhost:8080/"
        }
      },
      "execution_count": 37,
      "outputs": [
        {
          "output_type": "stream",
          "name": "stdout",
          "text": [
            "8\n",
            "8\n"
          ]
        }
      ]
    },
    {
      "cell_type": "code",
      "source": [
        "import numpy as np\n",
        "v = np.array([[1,2],[3,4]])\n",
        "w = np.array([2,3])\n",
        "\n",
        "\n",
        "print(v)\n",
        "print(w)\n",
        "\n",
        "print(v.dot(w))\n",
        "print(w.dot(v))"
      ],
      "metadata": {
        "id": "nYdmz3RxZo0T",
        "outputId": "80194517-173b-4bd4-cbd4-8f00a24be259",
        "colab": {
          "base_uri": "https://localhost:8080/"
        }
      },
      "execution_count": 38,
      "outputs": [
        {
          "output_type": "stream",
          "name": "stdout",
          "text": [
            "[[1 2]\n",
            " [3 4]]\n",
            "[2 3]\n",
            "[ 8 18]\n",
            "[11 16]\n"
          ]
        }
      ]
    },
    {
      "cell_type": "code",
      "source": [
        "import numpy as np\n",
        "\n",
        "x = np.array([[1,2],\n",
        "              [3,4]])\n",
        "y = np.array([[2,3],\n",
        "              [2,1]])\n",
        "\n",
        "#nhan giua 2 ma tran\n",
        "print(x.dot(y))\n",
        "print(y.dot(x))"
      ],
      "metadata": {
        "id": "vE4b414aaGCO",
        "outputId": "8092534d-57ff-42c1-d947-552ccfb2ef97",
        "colab": {
          "base_uri": "https://localhost:8080/"
        }
      },
      "execution_count": 39,
      "outputs": [
        {
          "output_type": "stream",
          "name": "stdout",
          "text": [
            "[[ 6  5]\n",
            " [14 13]]\n",
            "[[11 16]\n",
            " [ 5  8]]\n"
          ]
        }
      ]
    },
    {
      "cell_type": "code",
      "source": [
        "import numpy as np\n",
        "\n",
        "x = np.array([[1,2],\n",
        "              [3,4]])\n",
        "#chuyen vi\n",
        "print(x)\n",
        "print(x.T)"
      ],
      "metadata": {
        "id": "BIYCmH56aepn",
        "outputId": "8a6d866d-f42f-49aa-abe0-2e35724b14af",
        "colab": {
          "base_uri": "https://localhost:8080/"
        }
      },
      "execution_count": 40,
      "outputs": [
        {
          "output_type": "stream",
          "name": "stdout",
          "text": [
            "[[1 2]\n",
            " [3 4]]\n",
            "[[1 3]\n",
            " [2 4]]\n"
          ]
        }
      ]
    },
    {
      "cell_type": "code",
      "source": [
        "import numpy as np\n",
        "\n",
        "x = np.array([[1,2],\n",
        "              [3,4]])\n",
        "\n",
        "#tong cac phan tu cua mang\n",
        "print(np.sum(x))\n",
        "\n",
        "#tong tung cot\n",
        "print(np.sum(x, axis = 0))\n",
        "\n",
        "#tong tung dong\n",
        "print(np.sum(x, axis=1))"
      ],
      "metadata": {
        "id": "6pnTl1E4auWj",
        "outputId": "7dfcead4-d75d-484f-f843-6fcef02c8180",
        "colab": {
          "base_uri": "https://localhost:8080/"
        }
      },
      "execution_count": 42,
      "outputs": [
        {
          "output_type": "stream",
          "name": "stdout",
          "text": [
            "10\n",
            "[4 6]\n",
            "[3 7]\n"
          ]
        }
      ]
    },
    {
      "cell_type": "code",
      "source": [
        "import numpy as np\n",
        "\n",
        "data = np.array([1,2,3])\n",
        "\n",
        "print(data.min())\n",
        "print(data.max())"
      ],
      "metadata": {
        "id": "YtLVPnYibHNt",
        "outputId": "56cbb97b-687b-4309-91cb-a23b09fe8333",
        "colab": {
          "base_uri": "https://localhost:8080/"
        }
      },
      "execution_count": 43,
      "outputs": [
        {
          "output_type": "stream",
          "name": "stdout",
          "text": [
            "1\n",
            "3\n"
          ]
        }
      ]
    },
    {
      "cell_type": "code",
      "source": [
        "import numpy as np\n",
        "\n",
        "data = np.array([1,2,3])\n",
        "factor = 2\n",
        "\n",
        "#broadcasting\n",
        "result_multiplication = data*factor\n",
        "result_minus = data - factor\n",
        "\n",
        "print(data)\n",
        "print(result_multiplication)\n",
        "print(result_minus)"
      ],
      "metadata": {
        "id": "Sw6cDjlHbTJq",
        "outputId": "e61d7465-8a41-43b0-8fdd-2e061f3f564f",
        "colab": {
          "base_uri": "https://localhost:8080/"
        }
      },
      "execution_count": 44,
      "outputs": [
        {
          "output_type": "stream",
          "name": "stdout",
          "text": [
            "[1 2 3]\n",
            "[2 4 6]\n",
            "[-1  0  1]\n"
          ]
        }
      ]
    },
    {
      "cell_type": "code",
      "source": [
        "import numpy as np\n",
        "\n",
        "x = np.array([[1,2,3],\n",
        "              [4,5,6],\n",
        "              [7,8,9],\n",
        "              [10,11,12]])\n",
        "v = np.array([1,0,1])\n",
        "y = x + v\n",
        "print(y)"
      ],
      "metadata": {
        "id": "Us4rns5ibuc2",
        "outputId": "71403d67-f1b6-48bf-804f-f232096da4c5",
        "colab": {
          "base_uri": "https://localhost:8080/"
        }
      },
      "execution_count": 45,
      "outputs": [
        {
          "output_type": "stream",
          "name": "stdout",
          "text": [
            "[[ 2  2  4]\n",
            " [ 5  5  7]\n",
            " [ 8  8 10]\n",
            " [11 11 13]]\n"
          ]
        }
      ]
    }
  ]
}