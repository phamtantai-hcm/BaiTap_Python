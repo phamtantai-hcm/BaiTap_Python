{
  "nbformat": 4,
  "nbformat_minor": 0,
  "metadata": {
    "colab": {
      "provenance": [],
      "collapsed_sections": [],
      "authorship_tag": "ABX9TyP61Vl9UQzb45ernTppILGV",
      "include_colab_link": true
    },
    "kernelspec": {
      "name": "python3",
      "display_name": "Python 3"
    },
    "language_info": {
      "name": "python"
    }
  },
  "cells": [
    {
      "cell_type": "markdown",
      "metadata": {
        "id": "view-in-github",
        "colab_type": "text"
      },
      "source": [
        "<a href=\"https://colab.research.google.com/github/phamtantai-hcm/BaiTap_Python/blob/main/24_10.ipynb\" target=\"_parent\"><img src=\"https://colab.research.google.com/assets/colab-badge.svg\" alt=\"Open In Colab\"/></a>"
      ]
    },
    {
      "cell_type": "code",
      "execution_count": 2,
      "metadata": {
        "id": "R57E5_keGe-S",
        "colab": {
          "base_uri": "https://localhost:8080/"
        },
        "outputId": "6decf6ee-b2ae-4849-c8c8-2ed08f195ed2"
      },
      "outputs": [
        {
          "output_type": "stream",
          "name": "stdout",
          "text": [
            "[0 1 2 3 4 5 6 7 8 9]\n",
            "(10,)\n",
            "-----------------------\n",
            "tf.Tensor([0 1 2 3 4 5 6 7 8 9], shape=(10,), dtype=int64)\n",
            "(10,)\n",
            "-----------------------\n",
            "[0 1 2 3 4 5 6 7 8 9]\n",
            "(10,)\n",
            "-----------------------\n"
          ]
        }
      ],
      "source": [
        "import tensorflow as tf\n",
        "import numpy as np\n",
        "arr_np = np.arange(10)\n",
        "print(arr_np)\n",
        "print(arr_np.shape)\n",
        "print('-----------------------')\n",
        "arr_tf = tf.convert_to_tensor(arr_np)\n",
        "print(arr_tf)\n",
        "print(arr_tf.shape)\n",
        "print('-----------------------')\n",
        "arr_np_back = arr_tf.numpy()\n",
        "print(arr_np_back)\n",
        "print(arr_np_back.shape)\n",
        "print('-----------------------')"
      ]
    },
    {
      "cell_type": "code",
      "source": [
        "import numpy as np\n",
        "l = list(range(1,4))\n",
        "data = np.array(l)\n",
        "\n",
        "print(data)\n",
        "print(data[0])\n",
        "print(data[1])"
      ],
      "metadata": {
        "colab": {
          "base_uri": "https://localhost:8080/"
        },
        "id": "i3Yg0qtjPQtX",
        "outputId": "d85d6808-6f22-44cd-ff30-a10f319353c9"
      },
      "execution_count": 3,
      "outputs": [
        {
          "output_type": "stream",
          "name": "stdout",
          "text": [
            "[1 2 3]\n",
            "1\n",
            "2\n"
          ]
        }
      ]
    },
    {
      "cell_type": "code",
      "source": [
        "import numpy as np\n",
        "list1D = [1,2,3]\n",
        "data = np.array(list1D)\n",
        "\n",
        "print(data)\n",
        "print(data.shape)"
      ],
      "metadata": {
        "colab": {
          "base_uri": "https://localhost:8080/"
        },
        "id": "G1F4CEcnPtW9",
        "outputId": "3182926a-360d-446a-ae91-485e5bfaece2"
      },
      "execution_count": 4,
      "outputs": [
        {
          "output_type": "stream",
          "name": "stdout",
          "text": [
            "[1 2 3]\n",
            "(3,)\n"
          ]
        }
      ]
    },
    {
      "cell_type": "code",
      "source": [
        "import numpy as np\n",
        "list2D = [[1,2,],[3,4],[5,6]]\n",
        "data = np.array(list2D)\n",
        "\n",
        "print(data)\n",
        "print(data.shape)"
      ],
      "metadata": {
        "colab": {
          "base_uri": "https://localhost:8080/"
        },
        "id": "dF-wAL2iRxgy",
        "outputId": "1b6c709c-d8f3-42ea-bc0c-4a910e0fe38c"
      },
      "execution_count": 6,
      "outputs": [
        {
          "output_type": "stream",
          "name": "stdout",
          "text": [
            "[[1 2]\n",
            " [3 4]\n",
            " [5 6]]\n",
            "(3, 2)\n"
          ]
        }
      ]
    }
  ]
}