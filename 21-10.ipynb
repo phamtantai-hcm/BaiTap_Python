{
  "nbformat": 4,
  "nbformat_minor": 0,
  "metadata": {
    "colab": {
      "provenance": [],
      "collapsed_sections": [],
      "authorship_tag": "ABX9TyOI0otbuFBUNrgjuPcIp1G0"
    },
    "kernelspec": {
      "name": "python3",
      "display_name": "Python 3"
    },
    "language_info": {
      "name": "python"
    }
  },
  "cells": [
    {
      "cell_type": "code",
      "execution_count": null,
      "metadata": {
        "id": "-nWfumDlj28g"
      },
      "outputs": [],
      "source": []
    }
  ]
}