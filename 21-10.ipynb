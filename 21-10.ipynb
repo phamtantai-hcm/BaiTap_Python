{
  "nbformat": 4,
  "nbformat_minor": 0,
  "metadata": {
    "colab": {
      "provenance": [],
      "collapsed_sections": [],
      "authorship_tag": "ABX9TyP2z6ECeUDGXW/ujDg1kxdt",
      "include_colab_link": true
    },
    "kernelspec": {
      "name": "python3",
      "display_name": "Python 3"
    },
    "language_info": {
      "name": "python"
    }
  },
  "cells": [
    {
      "cell_type": "markdown",
      "metadata": {
        "id": "view-in-github",
        "colab_type": "text"
      },
      "source": [
        "<a href=\"https://colab.research.google.com/gist/phamtantai-hcm/3ec251c21cc789771fd103e2ad1820fd/21-10.ipynb\" target=\"_parent\"><img src=\"https://colab.research.google.com/assets/colab-badge.svg\" alt=\"Open In Colab\"/></a>"
      ]
    },
    {
      "cell_type": "code",
      "execution_count": 8,
      "metadata": {
        "id": "-nWfumDlj28g"
      },
      "outputs": [],
      "source": [
        "#đồng xu\n",
        "import random\n",
        "total_flips = 0\n",
        "num_tails = 0\n",
        "num_heads = 0\n",
        "for _ in range(1000):\n",
        "  n = random.random()\n",
        "  if n < 0.5:\n",
        "      num_tails = num_tails + 1\n",
        "  else:\n",
        "      num_heads = num_heads + 1\n",
        "\n",
        "  total_flips = total_flips + 1"
      ]
    },
    {
      "cell_type": "code",
      "source": [
        "#Pi\n",
        "import random\n",
        "import math\n",
        "\n",
        "N = 10\n",
        "N_T = 0\n",
        "\n",
        "for i in range(N):\n",
        "  x = random.random()*2 - 1\n",
        "  y = random.random()*2 - 1\n",
        "\n",
        "  x2 = x**2\n",
        "  y2 = y**2\n",
        "\n",
        "  if math.sqrt (x2 + y2) <= 1.0:\n",
        "    N_T = N_T + 1\n",
        "\n",
        "  pi = (N_T / N) * 4\n",
        "  print(pi)\n"
      ],
      "metadata": {
        "id": "eLKXYN4VwzB3",
        "outputId": "4e78b111-3b3d-4508-91d6-bb476dc18558",
        "colab": {
          "base_uri": "https://localhost:8080/"
        }
      },
      "execution_count": 10,
      "outputs": [
        {
          "output_type": "stream",
          "name": "stdout",
          "text": [
            "0.4\n",
            "0.8\n",
            "1.2\n",
            "1.6\n",
            "1.6\n",
            "2.0\n",
            "2.4\n",
            "2.8\n",
            "3.2\n",
            "3.6\n"
          ]
        }
      ]
    },
    {
      "cell_type": "code",
      "source": [
        "#example - euler's number\n",
        "def factorial (n):\n",
        "  result = 1\n",
        "\n",
        "  for i in range(2, n+1):\n",
        "    result = result*i\n",
        "  return result\n",
        "\n",
        "def estimate_e(n):\n",
        "  result = 1\n",
        "\n",
        "  for i in range(1,n+1):\n",
        "    result = result + 1/factorial(i)\n",
        "  \n",
        "  return result\n",
        "\n",
        "print(estimate_e(10))\n"
      ],
      "metadata": {
        "id": "nCalmnBdxtoZ",
        "outputId": "dd53ee71-57ab-482d-8f19-7e232407b04f",
        "colab": {
          "base_uri": "https://localhost:8080/"
        }
      },
      "execution_count": 11,
      "outputs": [
        {
          "output_type": "stream",
          "name": "stdout",
          "text": [
            "2.7182818011463845\n"
          ]
        }
      ]
    },
    {
      "cell_type": "code",
      "source": [
        "#example - computer quadratic root\n",
        "\n",
        "def computer_quadratic_root(N, num_loops):\n",
        "  x_n = N/2.0\n",
        "\n",
        "  for i in range(num_loops):\n",
        "    x_np1 = (x_n + N/x_n) / 2.0\n",
        "    v_n = x_np1\n",
        "\n",
        "  return x_np1\n",
        "\n",
        "print (computer_quadratic_root(N=9, num_loops=10))\n",
        "print (computer_quadratic_root(N=2, num_loops=10))\n"
      ],
      "metadata": {
        "id": "pF6UQDPFyh8c",
        "outputId": "ea64718b-311c-4a48-92a3-1ac53aeb30a3",
        "colab": {
          "base_uri": "https://localhost:8080/"
        }
      },
      "execution_count": 12,
      "outputs": [
        {
          "output_type": "stream",
          "name": "stdout",
          "text": [
            "3.25\n",
            "1.5\n"
          ]
        }
      ]
    },
    {
      "cell_type": "code",
      "source": [
        "#while Loop\n",
        "\n",
        "i = 0\n",
        "while i <5:\n",
        "  print(i)\n",
        "  i = i+1\n",
        "print('ket thuc')"
      ],
      "metadata": {
        "id": "AfdNjM__z5h4",
        "outputId": "c2e8b12c-795f-4b77-de37-71c8e67ac792",
        "colab": {
          "base_uri": "https://localhost:8080/"
        }
      },
      "execution_count": 13,
      "outputs": [
        {
          "output_type": "stream",
          "name": "stdout",
          "text": [
            "0\n",
            "1\n",
            "2\n",
            "3\n",
            "4\n",
            "ket thuc\n"
          ]
        }
      ]
    },
    {
      "cell_type": "code",
      "source": [
        "#while Loop 2\n",
        "import random\n",
        "\n",
        "while True:\n",
        "  num = random.randint(0,5)\n",
        "  print('so sinh ra', num)\n",
        "  if num ==4:\n",
        "    break;\n",
        "print('ket thuc')"
      ],
      "metadata": {
        "id": "NxoCeMOm0Jon",
        "outputId": "335b1237-014b-4603-debc-301d7628228b",
        "colab": {
          "base_uri": "https://localhost:8080/"
        }
      },
      "execution_count": 21,
      "outputs": [
        {
          "output_type": "stream",
          "name": "stdout",
          "text": [
            "so sinh ra 0\n",
            "so sinh ra 5\n",
            "so sinh ra 4\n",
            "ket thuc\n"
          ]
        }
      ]
    }
  ]
}